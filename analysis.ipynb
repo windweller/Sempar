{
 "cells": [
  {
   "cell_type": "code",
   "execution_count": 1,
   "metadata": {
    "collapsed": true
   },
   "outputs": [],
   "source": [
    "import pickle"
   ]
  },
  {
   "cell_type": "code",
   "execution_count": 2,
   "metadata": {
    "collapsed": true
   },
   "outputs": [],
   "source": [
    "with open('rnn_engine_no_query_256_d15_e20/valid_decode_e20.pkl', 'rb') as f:\n",
    "    no_query = pickle.load(f)\n",
    "with open('rnn_engine_catattn_256_d15_e20/valid_decode_e20.pkl', 'rb') as f:\n",
    "    cat_attn = pickle.load(f)\n",
    "# both epoch 20 is the best epoch\n",
    "with open(\"data/shrdlurn/tokenized_s_val.pkl\", \"rb\") as f:\n",
    "    q_valid = pickle.load(f)"
   ]
  },
  {
   "cell_type": "code",
   "execution_count": 3,
   "metadata": {
    "collapsed": true
   },
   "outputs": [],
   "source": [
    "_PAD = b\"<pad>\"\n",
    "_SOS = b\"<sos>\"\n",
    "_EOS = b\"<eos>\"\n",
    "_UNK = b\"<unk>\"\n",
    "_START_VOCAB = [_PAD, _SOS, _EOS, _UNK]\n",
    "\n",
    "PAD_ID = 0\n",
    "SOS_ID = 1\n",
    "EOS_ID = 2\n",
    "UNK_ID = 3\n",
    "\n",
    "def initialize_vocab(vocab_path):\n",
    "    rev_vocab = []\n",
    "    with open(vocab_path, mode=\"rb\") as f:\n",
    "        rev_vocab.extend(f.readlines())\n",
    "    rev_vocab = [line.strip('\\n') for line in rev_vocab]\n",
    "    vocab = dict([(x, y) for (y, x) in enumerate(rev_vocab)])\n",
    "    return vocab, rev_vocab\n",
    "\n",
    "def detokenize(sents, reverse_vocab, decode=False):\n",
    "    space = \"\"\n",
    "    if decode:\n",
    "        space = \" \"\n",
    "\n",
    "    def detok_sent(sent):\n",
    "        outsent = ''\n",
    "        for t in sent:\n",
    "            if t >= len(_START_VOCAB):\n",
    "                outsent += reverse_vocab[t] + space  # this might not be right...\n",
    "        return outsent\n",
    "\n",
    "    return [detok_sent(s) for s in sents]\n",
    "\n",
    "def detokenize_to_list(sents, reverse_vocab):\n",
    "    def detok_sent(sent):\n",
    "        outsent = []\n",
    "        for t in sent:\n",
    "            if t >= len(_START_VOCAB):\n",
    "                outsent.append(reverse_vocab[t])  # this might not be right...\n",
    "        return outsent\n",
    "\n",
    "    return [detok_sent(s) for s in sents]"
   ]
  },
  {
   "cell_type": "code",
   "execution_count": 4,
   "metadata": {
    "collapsed": true
   },
   "outputs": [],
   "source": [
    "src_vocab, rev_src_vocab = initialize_vocab(\"data/shrdlurn/src_vocab.dat\")\n",
    "tgt_vocab, rev_tgt_vocab = initialize_vocab(\"data/shrdlurn/tgt_vocab.dat\")\n",
    "env_vocab, rev_env_vocab = initialize_vocab(\"data/shrdlurn/env_vocab.dat\")"
   ]
  },
  {
   "cell_type": "code",
   "execution_count": 26,
   "metadata": {},
   "outputs": [
    {
     "data": {
      "text/plain": [
       "{'cmd': ['keep', 'brown', 'right'],\n",
       " 'ctx': ['[',\n",
       "  '1',\n",
       "  ']',\n",
       "  '[',\n",
       "  '0',\n",
       "  ']',\n",
       "  '[',\n",
       "  '0',\n",
       "  ']',\n",
       "  '[',\n",
       "  '0',\n",
       "  ']',\n",
       "  '[',\n",
       "  '1',\n",
       "  ']'],\n",
       " 'decoded': '[ 1 ] ',\n",
       " 'truth': ['[', '1', ']', '']}"
      ]
     },
     "execution_count": 26,
     "metadata": {},
     "output_type": "execute_result"
    }
   ],
   "source": [
    "cat_attn[0]"
   ]
  },
  {
   "cell_type": "code",
   "execution_count": 29,
   "metadata": {},
   "outputs": [
    {
     "name": "stdout",
     "output_type": "stream",
     "text": [
      "['keep', 'brown', 'right']\n",
      "['keep', 'brown', 'right']\n",
      "True\n"
     ]
    }
   ],
   "source": [
    "src_decoded = detokenize_to_list([q_valid[0][0]], rev_src_vocab)[0]\n",
    "print src_decoded\n",
    "print cat_attn[0]['cmd']\n",
    "print src_decoded == cat_attn[0]['cmd']\n",
    "# also they are in the same order"
   ]
  },
  {
   "cell_type": "code",
   "execution_count": 31,
   "metadata": {},
   "outputs": [
    {
     "name": "stdout",
     "output_type": "stream",
     "text": [
      "[['(targetFormula', '(call', 'wallToString', '(call', 'context:removeTop', '(call', 'complement', '(call', 'rightMost1', '(call', 'context:getTopColor', '(number', '1', 'COLOR)', ')', ')', ')', ')', ')', ')']]\n",
      "[['[', '1', ']', '[', '0', ']', '[', '0', ']', '[', '0', ']', '[', '1', ']']]\n"
     ]
    }
   ],
   "source": [
    "print detokenize_to_list([q_valid[0][1]], rev_tgt_vocab)\n",
    "print detokenize_to_list([q_valid[0][2]], rev_env_vocab)"
   ]
  },
  {
   "cell_type": "code",
   "execution_count": 8,
   "metadata": {},
   "outputs": [
    {
     "name": "stdout",
     "output_type": "stream",
     "text": [
      "[ 1 ] [ 1 ] [ 3 ] [ 1 ] \n",
      "[ 1 ] [ 1 ] [ 3 ] [ 1 ] \n",
      "True\n"
     ]
    }
   ],
   "source": [
    "def check_correct(result1):\n",
    "    pred_env = result1['decoded'].strip()\n",
    "    true_env = \" \".join(result1['truth']).strip()\n",
    "    return pred_env == true_env\n",
    "\n",
    "print cat_attn[1]['decoded']\n",
    "print \" \".join(cat_attn[1]['truth'])\n",
    "print check_correct(cat_attn[1])"
   ]
  },
  {
   "cell_type": "code",
   "execution_count": 32,
   "metadata": {},
   "outputs": [
    {
     "data": {
      "text/plain": [
       "1245"
      ]
     },
     "execution_count": 32,
     "metadata": {},
     "output_type": "execute_result"
    }
   ],
   "source": [
    "# 1. Could track the progression of learning through epochs (if we can categorize entries, \n",
    "# then we can track the rate of accuracy growing)\n",
    "# 2. Categories don't have to be mutually exclusive\n",
    "\n",
    "# Categories:\n",
    "# 1. Logical difficulty (based on the length of parsed logical form, could do depth as well)\n",
    "# 2. Language transferrability (what's the dominant language in the corpus? Is it English?) \n",
    "#   (Divide by: \"English/abbreviated English\", \"Pure number\")"
   ]
  },
  {
   "cell_type": "markdown",
   "metadata": {},
   "source": [
    "## What is learned by adding Query? (compare to no_query)"
   ]
  },
  {
   "cell_type": "code",
   "execution_count": 18,
   "metadata": {
    "collapsed": true
   },
   "outputs": [],
   "source": [
    "# Predictions learned by Cat_attn but not no_query\n",
    "pred_learned_by_add_query = []\n",
    "pred_confused_by_add_query = []\n",
    "\n",
    "for i in range(len(cat_attn)):\n",
    "    # we track things learned by cat_attn but not no_query\n",
    "    # and things that got right by no_query, but got wrong by cat_attn\n",
    "    if check_correct(cat_attn[i]) and not check_correct(no_query[i]):\n",
    "        pred_learned_by_add_query.append(cat_attn[i])  # , no_query[i]]  # save both\n",
    "    if not check_correct(cat_attn[i]) and check_correct(no_query[i]):\n",
    "        pred_confused_by_add_query.append(cat_attn[i])  # , no_query[i]]"
   ]
  },
  {
   "cell_type": "code",
   "execution_count": 19,
   "metadata": {},
   "outputs": [
    {
     "name": "stdout",
     "output_type": "stream",
     "text": [
      "580\n",
      "61\n"
     ]
    }
   ],
   "source": [
    "print len(pred_learned_by_add_query)\n",
    "print len(pred_confused_by_add_query)"
   ]
  },
  {
   "cell_type": "code",
   "execution_count": null,
   "metadata": {
    "collapsed": true
   },
   "outputs": [],
   "source": [
    "# 1. Plot the difference in stats about what's learned by adding query\n",
    "# 2. Plot the difference in stats about what's learned by directly predicting output, compare to parsing logical form \n",
    "# (essentially what specifically did predicting output is able to solve but parsing can't - maybe we'll gain new insights\n",
    "# maybe not...)\n",
    "# 3. summarize your story into README"
   ]
  },
  {
   "cell_type": "code",
   "execution_count": 21,
   "metadata": {},
   "outputs": [
    {
     "name": "stdout",
     "output_type": "stream",
     "text": [
      "num of English:  475\n",
      "num of non-English:  105\n",
      "4.52380952381\n",
      "3.39929328622\n"
     ]
    }
   ],
   "source": [
    "# 1. How many more English/non-Enligsh command can be solved by direct prediction?\n",
    "english, non_english = accuracy_by_language_type(pred_learned_by_add_query)\n",
    "print \"num of English: \", len(english)\n",
    "print \"num of non-English: \", len(non_english)\n",
    "# so out of 580 newly learned ones, 475 are \"English\"\n",
    "# num of English:  962\n",
    "# num of non-English:  283\n",
    "print 475. / 105.\n",
    "print 962. / 283.\n",
    "\n",
    "# this means conditioning on the query helps us solve English (common) language more than \n",
    "# help us solve non-English language"
   ]
  },
  {
   "cell_type": "code",
   "execution_count": 30,
   "metadata": {
    "collapsed": true
   },
   "outputs": [],
   "source": [
    "def accu_perc(accu_num_dict, dist_dict):\n",
    "    accu_dict = {}\n",
    "\n",
    "    for k, v in accu_num_dict.iteritems():\n",
    "        accu_dict[k] = float(accu_num_dict[k]) / dist_dict[k]\n",
    "    return accu_dict"
   ]
  },
  {
   "cell_type": "code",
   "execution_count": 34,
   "metadata": {},
   "outputs": [
    {
     "name": "stdout",
     "output_type": "stream",
     "text": [
      "{10: 8, 13: 130, 14: 392, 16: 129, 17: 306, 19: 51, 20: 229}\n"
     ]
    }
   ],
   "source": [
    "print accuracy_by_logic_length(cat_attn)[1]"
   ]
  },
  {
   "cell_type": "code",
   "execution_count": 29,
   "metadata": {},
   "outputs": [
    {
     "name": "stdout",
     "output_type": "stream",
     "text": [
      "{10: 2, 13: 67, 14: 293, 16: 84, 17: 188, 19: 13, 20: 133}\n",
      "{10: 0, 13: 26, 14: 146, 16: 5, 17: 63, 19: 0, 20: 21}\n"
     ]
    }
   ],
   "source": [
    "# 2. Is the model better at learning learning harder/longer logical forms?\n",
    "print accuracy_by_logic_length(cat_attn)[0]  # we only need one because they are all correct\n",
    "print accuracy_by_logic_length(no_query)[0]"
   ]
  },
  {
   "cell_type": "code",
   "execution_count": 32,
   "metadata": {},
   "outputs": [
    {
     "name": "stdout",
     "output_type": "stream",
     "text": [
      "{10: 0.25, 13: 0.5153846153846153, 14: 0.7474489795918368, 16: 0.6511627906976745, 17: 0.6143790849673203, 19: 0.2549019607843137, 20: 0.5807860262008734}\n",
      "{10: 0.0, 13: 0.2, 14: 0.37244897959183676, 16: 0.03875968992248062, 17: 0.20588235294117646, 19: 0.0, 20: 0.09170305676855896}\n"
     ]
    }
   ],
   "source": [
    "cat_attn_accu_perc = accu_perc(accuracy_by_logic_length(cat_attn)[0], accuracy_by_logic_length(cat_attn)[1])\n",
    "no_query_accu_perc = accu_perc(accuracy_by_logic_length(no_query)[0], accuracy_by_logic_length(no_query)[1])\n",
    "print cat_attn_accu_perc\n",
    "print no_query_accu_perc"
   ]
  },
  {
   "cell_type": "code",
   "execution_count": 33,
   "metadata": {},
   "outputs": [
    {
     "name": "stdout",
     "output_type": "stream",
     "text": [
      "10 :  0.25\n",
      "13 :  0.315384615385\n",
      "14 :  0.375\n",
      "16 :  0.612403100775\n",
      "17 :  0.408496732026\n",
      "19 :  0.254901960784\n",
      "20 :  0.489082969432\n"
     ]
    }
   ],
   "source": [
    "# print out the percentage increase\n",
    "for k, v in cat_attn_accu_perc.iteritems():\n",
    "    print k, \": \", v - no_query_accu_perc[k]\n",
    "\n",
    "# from this we kinda sorta know the medium length logical form gets improved the most!? \n",
    "# 16 does not have the most amount of training data"
   ]
  },
  {
   "cell_type": "code",
   "execution_count": 54,
   "metadata": {},
   "outputs": [
    {
     "name": "stdout",
     "output_type": "stream",
     "text": [
      "{'put': 94, 'add': 275, 'stack': 31, 'remove': 564}\n",
      "{'put': 67, 'add': 169, 'stack': 17, 'remove': 389}\n",
      "{'put': 1, 'add': 17, 'stack': 1, 'remove': 177}\n"
     ]
    }
   ],
   "source": [
    "# 3. Is the model better at interpreting certain actions?\n",
    "cat_attn_action_type_accu_num_dict = {'remove':0, 'add':0, 'put':0, 'stack':0}\n",
    "action_type_dist = {'remove':0, 'add':0, 'put':0, 'stack':0}\n",
    "\n",
    "accuracy_by_action_type(cat_attn, cat_attn_action_type_accu_num_dict, action_type_dist)\n",
    "\n",
    "no_query_action_type_accu_num_dict = {'remove':0, 'add':0, 'put':0, 'stack':0}\n",
    "action_type_dist = {'remove':0, 'add':0, 'put':0, 'stack':0}\n",
    "\n",
    "accuracy_by_action_type(no_query, no_query_action_type_accu_num_dict, action_type_dist)\n",
    "\n",
    "\n",
    "print action_type_dist\n",
    "print cat_attn_action_type_accu_num_dict\n",
    "print no_query_action_type_accu_num_dict\n"
   ]
  },
  {
   "cell_type": "markdown",
   "metadata": {},
   "source": [
    "## What is learned by adding Query? (compare to RNN_Logic)"
   ]
  },
  {
   "cell_type": "code",
   "execution_count": 42,
   "metadata": {
    "collapsed": true
   },
   "outputs": [],
   "source": [
    "# Predictions learned by Cat_attn but not no_query\n",
    "pred_learned_by_pred_env = []\n",
    "pred_confused_by_pred_env = []\n",
    "\n",
    "for i in range(len(cat_attn)):\n",
    "    # we track things learned by cat_attn but not no_query\n",
    "    # and things that got right by no_query, but got wrong by cat_attn\n",
    "    if check_correct(cat_attn[i]) and not check_correct(seq_nlc[i]):\n",
    "        pred_learned_by_pred_env.append(cat_attn[i])  # , no_query[i]]  # save both\n",
    "    if not check_correct(cat_attn[i]) and check_correct(seq_nlc[i]):\n",
    "        pred_confused_by_pred_env.append(cat_attn[i])  # , no_query[i]]"
   ]
  },
  {
   "cell_type": "code",
   "execution_count": 43,
   "metadata": {},
   "outputs": [
    {
     "name": "stdout",
     "output_type": "stream",
     "text": [
      "270\n",
      "173\n"
     ]
    }
   ],
   "source": [
    "print len(pred_learned_by_pred_env)\n",
    "print len(pred_confused_by_pred_env)"
   ]
  },
  {
   "cell_type": "code",
   "execution_count": null,
   "metadata": {
    "collapsed": true
   },
   "outputs": [],
   "source": [
    "# interesting, so you really win some and lose some. This is a bit unexpected\n",
    "# even though both approaches have similar overall accuracy 55.90 vs. 64.17\n",
    "\n",
    "# So for the winning side\n"
   ]
  },
  {
   "cell_type": "markdown",
   "metadata": {},
   "source": [
    "### Conclusion\n",
    "This means that by adding query, we are able to learn 580 examples that previously are not learnable, and it accounts for 46.58% of the vadliation corpus (1245 examples). However, by adding query, model gets 61 examples wrong. This could be a problem of insufficient parameter learning (1.84M vs. 2.63M)"
   ]
  },
  {
   "cell_type": "markdown",
   "metadata": {},
   "source": [
    "## Length of Logical Form"
   ]
  },
  {
   "cell_type": "code",
   "execution_count": 54,
   "metadata": {
    "collapsed": true
   },
   "outputs": [],
   "source": [
    "def check_accuracy(results):\n",
    "    num_correct = 0.\n",
    "    for res in results:\n",
    "        if check_correct(res):\n",
    "            num_correct += 1\n",
    "    return num_correct / len(results)"
   ]
  },
  {
   "cell_type": "code",
   "execution_count": 55,
   "metadata": {},
   "outputs": [
    {
     "data": {
      "text/plain": [
       "0.6265060240963856"
      ]
     },
     "execution_count": 55,
     "metadata": {},
     "output_type": "execute_result"
    }
   ],
   "source": [
    "check_accuracy(cat_attn)"
   ]
  },
  {
   "cell_type": "code",
   "execution_count": 59,
   "metadata": {},
   "outputs": [
    {
     "data": {
      "text/plain": [
       "[[111, 7, 23],\n",
       " [8, 5, 9, 5, 11, 5, 18, 5, 20, 5, 10, 7, 13, 6, 4, 4, 4, 4, 4, 4],\n",
       " [4, 7, 5, 4, 6, 5, 4, 6, 5, 4, 6, 5, 4, 7, 5],\n",
       " [4, 7, 5]]"
      ]
     },
     "execution_count": 59,
     "metadata": {},
     "output_type": "execute_result"
    }
   ],
   "source": [
    "q_valid[0]"
   ]
  },
  {
   "cell_type": "code",
   "execution_count": 22,
   "metadata": {
    "collapsed": true
   },
   "outputs": [],
   "source": [
    "def accuracy_by_logic_length(results):\n",
    "    logic_len_accu_dict = {}\n",
    "    logic_len_dist = {}\n",
    "    for i in range(len(results)):\n",
    "        logic_len = len(q_valid[i][1])\n",
    "        if logic_len not in logic_len_dist:\n",
    "                logic_len_dist[logic_len] = 1\n",
    "        else:\n",
    "            logic_len_dist[logic_len] += 1\n",
    "                \n",
    "        if check_correct(results[i]):\n",
    "            if logic_len not in logic_len_accu_dict:\n",
    "                logic_len_accu_dict[logic_len] = 1\n",
    "            else:\n",
    "                logic_len_accu_dict[logic_len] += 1\n",
    "        else:\n",
    "            if logic_len not in logic_len_accu_dict:\n",
    "                logic_len_accu_dict[logic_len] = 0\n",
    "    return logic_len_accu_dict, logic_len_dist"
   ]
  },
  {
   "cell_type": "code",
   "execution_count": 69,
   "metadata": {},
   "outputs": [
    {
     "name": "stdout",
     "output_type": "stream",
     "text": [
      "{10: 8, 13: 130, 14: 392, 16: 129, 17: 306, 19: 51, 20: 229}\n",
      "{10: 2, 13: 67, 14: 293, 16: 84, 17: 188, 19: 13, 20: 133}\n"
     ]
    }
   ],
   "source": [
    "logic_len_accu_num_dict, logic_len_dist = accuracy_by_logic_length(cat_attn)\n",
    "print logic_len_dist\n",
    "print logic_len_accu_num_dict"
   ]
  },
  {
   "cell_type": "code",
   "execution_count": 70,
   "metadata": {
    "collapsed": true
   },
   "outputs": [],
   "source": [
    "# compute the percentage of accuracy by logic length\n",
    "# might need to check logic depth as a better measurement\n",
    "logic_len_accu_dict = {}\n",
    "for k, v in logic_len_dist.iteritems():\n",
    "    logic_len_accu_dict[k] = float(logic_len_accu_num_dict[k]) / logic_len_dist[k]"
   ]
  },
  {
   "cell_type": "code",
   "execution_count": 73,
   "metadata": {},
   "outputs": [
    {
     "name": "stdout",
     "output_type": "stream",
     "text": [
      "10: 8\n",
      "13: 130\n",
      "14: 392\n",
      "16: 129\n",
      "17: 306\n",
      "19: 51\n",
      "20: 229\n"
     ]
    }
   ],
   "source": [
    "for k, v in logic_len_dist.iteritems():\n",
    "    print str(k) + \": \" + str(v)"
   ]
  },
  {
   "cell_type": "code",
   "execution_count": 71,
   "metadata": {},
   "outputs": [
    {
     "data": {
      "text/plain": [
       "{10: 0.25,\n",
       " 13: 0.5153846153846153,\n",
       " 14: 0.7474489795918368,\n",
       " 16: 0.6511627906976745,\n",
       " 17: 0.6143790849673203,\n",
       " 19: 0.2549019607843137,\n",
       " 20: 0.5807860262008734}"
      ]
     },
     "execution_count": 71,
     "metadata": {},
     "output_type": "execute_result"
    }
   ],
   "source": [
    "logic_len_accu_dict"
   ]
  },
  {
   "cell_type": "code",
   "execution_count": 78,
   "metadata": {},
   "outputs": [
    {
     "data": {
      "text/plain": [
       "<matplotlib.collections.PathCollection at 0x109bb6490>"
      ]
     },
     "execution_count": 78,
     "metadata": {},
     "output_type": "execute_result"
    },
    {
     "data": {
      "image/png": "[encoded data removed]",
      "text/plain": [
       "<matplotlib.figure.Figure at 0x109a52590>"
      ]
     },
     "metadata": {},
     "output_type": "display_data"
    }
   ],
   "source": [
    "%matplotlib inline\n",
    "\n",
    "import matplotlib\n",
    "import numpy as np\n",
    "import matplotlib.pyplot as plt\n",
    "\n",
    "x = []; y = []\n",
    "for k, v in logic_len_accu_dict.iteritems():\n",
    "    x.append(logic_len_dist[k]); y.append(v)\n",
    "\n",
    "plt.xlim(-10, 450)\n",
    "plt.scatter(x, y)"
   ]
  },
  {
   "cell_type": "code",
   "execution_count": 35,
   "metadata": {
    "collapsed": true
   },
   "outputs": [],
   "source": [
    "# we compare this to RNN_Logic's result, because that result should have been affected by length of query!\n",
    "with open('rnn_nlc_attn_256_d15_e20/valid_decode_e9.pkl', 'rb') as f:\n",
    "    seq_nlc = pickle.load(f)"
   ]
  },
  {
   "cell_type": "code",
   "execution_count": 184,
   "metadata": {},
   "outputs": [
    {
     "name": "stdout",
     "output_type": "stream",
     "text": [
      "{10: 8, 13: 130, 14: 392, 16: 129, 17: 306, 19: 51, 20: 229}\n",
      "{10: 0, 13: 42, 14: 340, 16: 89, 17: 145, 19: 31, 20: 36}\n"
     ]
    }
   ],
   "source": [
    "logic_len_accu_num_dict, logic_len_dist = accuracy_by_logic_length(seq_nlc)\n",
    "print logic_len_dist\n",
    "print logic_len_accu_num_dict"
   ]
  },
  {
   "cell_type": "code",
   "execution_count": 185,
   "metadata": {},
   "outputs": [
    {
     "name": "stdout",
     "output_type": "stream",
     "text": [
      "10: 8\n",
      "13: 130\n",
      "14: 392\n",
      "16: 129\n",
      "17: 306\n",
      "19: 51\n",
      "20: 229\n",
      "\n"
     ]
    },
    {
     "data": {
      "text/plain": [
       "{10: 0.0,\n",
       " 13: 0.3230769230769231,\n",
       " 14: 0.8673469387755102,\n",
       " 16: 0.689922480620155,\n",
       " 17: 0.4738562091503268,\n",
       " 19: 0.6078431372549019,\n",
       " 20: 0.1572052401746725}"
      ]
     },
     "execution_count": 185,
     "metadata": {},
     "output_type": "execute_result"
    }
   ],
   "source": [
    "logic_len_accu_dict = {}\n",
    "for k, v in logic_len_dist.iteritems():\n",
    "    logic_len_accu_dict[k] = float(logic_len_accu_num_dict[k]) / logic_len_dist[k]\n",
    "\n",
    "for k, v in logic_len_dist.iteritems():\n",
    "    print str(k) + \": \" + str(v)\n",
    "\n",
    "print \"\"\n",
    "\n",
    "logic_len_accu_dict"
   ]
  },
  {
   "cell_type": "code",
   "execution_count": 186,
   "metadata": {},
   "outputs": [
    {
     "data": {
      "text/plain": [
       "<matplotlib.collections.PathCollection at 0x10fea56d0>"
      ]
     },
     "execution_count": 186,
     "metadata": {},
     "output_type": "execute_result"
    },
    {
     "data": {
      "image/png": "[encoded data removed]",
      "text/plain": [
       "<matplotlib.figure.Figure at 0x107c85410>"
      ]
     },
     "metadata": {},
     "output_type": "display_data"
    }
   ],
   "source": [
    "# This shows the influence of training size on accuracy\n",
    "%matplotlib inline\n",
    "\n",
    "import matplotlib\n",
    "import numpy as np\n",
    "import matplotlib.pyplot as plt\n",
    "\n",
    "x = []; y = []\n",
    "for k, v in logic_len_accu_dict.iteritems():\n",
    "    x.append(logic_len_dist[k]); y.append(v)\n",
    "\n",
    "plt.xlim(-10, 450)\n",
    "plt.scatter(x, y)\n",
    "\n",
    "# This shows that training size is not linearly correlated with accuracy"
   ]
  },
  {
   "cell_type": "code",
   "execution_count": 188,
   "metadata": {},
   "outputs": [
    {
     "name": "stdout",
     "output_type": "stream",
     "text": [
      "10: 8\n",
      "13: 130\n",
      "14: 392\n",
      "16: 129\n",
      "17: 306\n",
      "19: 51\n",
      "20: 229\n"
     ]
    },
    {
     "data": {
      "image/png": "[encoded data removed]",
      "text/plain": [
       "<matplotlib.figure.Figure at 0x1109d5110>"
      ]
     },
     "metadata": {},
     "output_type": "display_data"
    }
   ],
   "source": [
    "# We now show the length influence on accuracy\n",
    "import matplotlib\n",
    "import numpy as np\n",
    "import matplotlib.pyplot as plt\n",
    "\n",
    "x = []; y = []\n",
    "for k, v in logic_len_accu_dict.iteritems():\n",
    "    x.append(k); y.append(v)\n",
    "\n",
    "# plt.xlim(-10, 450)\n",
    "plt.scatter(x, y)\n",
    "\n",
    "for k, v in logic_len_dist.iteritems():\n",
    "    print str(k) + \": \" + str(v)"
   ]
  },
  {
   "cell_type": "markdown",
   "metadata": {},
   "source": [
    "This plot shows that length does matter if we plot for the RNN_Logic (which is expected)"
   ]
  },
  {
   "cell_type": "markdown",
   "metadata": {},
   "source": [
    "### Conclusion\n",
    "Even though we are not directly training on nor predicting logical form, it seems like the sheer length of logic form does not entirely correlate with learnability. However, from the scatter plot, we can also see it's not entirely a linear relationship with training size either. (Length 13 and 16 have different accuracy but similar size)\n",
    "\n",
    "This result is slightly different from CLEVR where it has been (probably) demonstrated that longer/deeper logical form is harder to directly predict the next step."
   ]
  },
  {
   "cell_type": "markdown",
   "metadata": {},
   "source": [
    "## Logic Tree Depth"
   ]
  },
  {
   "cell_type": "code",
   "execution_count": null,
   "metadata": {
    "collapsed": true
   },
   "outputs": [],
   "source": [
    "# following from the inconclusion of length, we now look towards depth of tree"
   ]
  },
  {
   "cell_type": "code",
   "execution_count": 79,
   "metadata": {
    "collapsed": true
   },
   "outputs": [],
   "source": [
    "import nltk\n",
    "from nltk.tree import Tree"
   ]
  },
  {
   "cell_type": "code",
   "execution_count": 101,
   "metadata": {},
   "outputs": [
    {
     "data": {
      "image/png": "[encoded data removed]",
      "text/plain": [
       "Tree('targetFormula', [Tree('call', ['wallToString', Tree('call', ['context:removeTop', Tree('call', ['complement', Tree('call', ['rightMost1', Tree('call', ['context:getTopColor', Tree('number', ['1', 'COLOR'])])])])])])])"
      ]
     },
     "execution_count": 101,
     "metadata": {},
     "output_type": "execute_result"
    }
   ],
   "source": [
    "tree = Tree.fromstring(detokenize([q_valid[0][1]], rev_tgt_vocab, decode=True)[0].strip())\n",
    "Tree.fromstring(detokenize([q_valid[0][1]], rev_tgt_vocab, decode=True)[0].strip())"
   ]
  },
  {
   "cell_type": "code",
   "execution_count": 95,
   "metadata": {
    "collapsed": true
   },
   "outputs": [],
   "source": [
    "# tested, should be correct\n",
    "def get_depth(tree):\n",
    "    curr_depth = []\n",
    "    def get_depth_recur(tree, depth):\n",
    "        curr_depth.append(depth)\n",
    "        for subtree in tree:\n",
    "            if type(subtree) == nltk.tree.Tree:\n",
    "                get_depth_recur(subtree, depth+1)\n",
    "    get_depth_recur(tree, 0)\n",
    "    return max(curr_depth)"
   ]
  },
  {
   "cell_type": "code",
   "execution_count": 102,
   "metadata": {
    "collapsed": true
   },
   "outputs": [],
   "source": [
    "def get_logic_depth(result):\n",
    "    tree = Tree.fromstring(detokenize([result], rev_tgt_vocab, decode=True)[0].strip())\n",
    "    return get_depth(tree)\n",
    "\n",
    "def accuracy_by_logic_depth(results):\n",
    "    logic_depth_accu_dict = {}\n",
    "    logic_depth_dist = {}\n",
    "    for i in range(len(results)):\n",
    "        logic_depth = get_logic_depth(q_valid[i][1])\n",
    "        if logic_depth not in logic_depth_dist:\n",
    "                logic_depth_dist[logic_depth] = 1\n",
    "        else:\n",
    "            logic_depth_dist[logic_depth] += 1\n",
    "                \n",
    "        if check_correct(results[i]):\n",
    "            if logic_depth not in logic_depth_accu_dict:\n",
    "                logic_depth_accu_dict[logic_depth] = 1\n",
    "            else:\n",
    "                logic_depth_accu_dict[logic_depth] += 1\n",
    "    return logic_depth_accu_dict, logic_depth_dist"
   ]
  },
  {
   "cell_type": "code",
   "execution_count": 103,
   "metadata": {},
   "outputs": [
    {
     "name": "stdout",
     "output_type": "stream",
     "text": [
      "{3: 20, 4: 756, 5: 448, 6: 21}\n",
      "{3: 8, 4: 516, 5: 242, 6: 14}\n"
     ]
    }
   ],
   "source": [
    "logic_depth_accu_num_dict, logic_depth_dist = accuracy_by_logic_depth(cat_attn)\n",
    "print logic_depth_dist\n",
    "print logic_depth_accu_num_dict"
   ]
  },
  {
   "cell_type": "code",
   "execution_count": 106,
   "metadata": {},
   "outputs": [
    {
     "name": "stdout",
     "output_type": "stream",
     "text": [
      "3: 0.4\n",
      "4: 0.68253968254\n",
      "5: 0.540178571429\n",
      "6: 0.666666666667\n"
     ]
    }
   ],
   "source": [
    "logic_depth_accu_dict = {}\n",
    "for k, v in logic_depth_dist.iteritems():\n",
    "    logic_depth_accu_dict[k] = float(logic_depth_accu_num_dict[k]) / logic_depth_dist[k]\n",
    "\n",
    "for k, v in logic_depth_accu_dict.iteritems():\n",
    "    print str(k) + \": \" + str(v)"
   ]
  },
  {
   "cell_type": "code",
   "execution_count": 114,
   "metadata": {},
   "outputs": [
    {
     "data": {
      "text/plain": [
       "[[True, '[ 0 ] [ 2 ] [ 0 ] [ 2 ] [ 0 ]'],\n",
       " [True, '[ 0 ] [ 1 0 ] [ 0 ] [ 1 0 ]'],\n",
       " [False, '[ 3 ] [ 0 ] [ 2 ] [ 0 ] [ 0 ]'],\n",
       " [False, '[ 2 2 ] [ 2 3 ] [ 2 2 ]'],\n",
       " [False, '[ 1 ] [ 3 ] [ 0 ] [ 3 ] [ 2 ] [ 3 ]'],\n",
       " [False, '[ 2 ] [ 0 ] [ 0 ] [ 2 ] [ 0 ] [ 0 ] [ 1 ]'],\n",
       " [False, '[ 3 ] [ 3 ] [ 3 ] [ 1 ] [ 0 ] [ 3 ]'],\n",
       " [True, '[ 1 ] [ 0 ] [ 0 ] [ 1 ] [ 0 ]'],\n",
       " [False, '[ 1 ] [ 2 ] [ 3 ] [ 0 ] [ 0 ]'],\n",
       " [False, '[ 3 3 ] [ 2 ] [ 2 ] [ 3 ]'],\n",
       " [True, '[ 1 1 ] [ 1 0 0 ] [ 1 0 0 0 ] [ 1 0 0 ] [ 1 1 ]'],\n",
       " [True, '[ 2 ] [ 2 ] [ 2 ] [ 3 ]'],\n",
       " [False, '[ 1 ] [ 0 ] [ 3 ] [ 2 ] [ 0 ] [ 0 ] [ 2 ]'],\n",
       " [False, '[ 3 3 ] [ 3 2 ] [ 3 3 ]'],\n",
       " [True, '[ 0 0 ] [ 0 ] [ 0 0 ] [ 0 ] [ 0 0 ] [ 0 ]'],\n",
       " [True, '[ 2 ] [ 3 ] [ 2 ] [ 3 ] [ 2 ] [ 3 ]'],\n",
       " [False, '[ 0 ] [ 2 ] [ 0 ] [ 3 ] [ 3 ] [ 1 ]'],\n",
       " [False, '[ 1 ] [ 1 ] [ 0 ] [ 1 ] [ 0 ] [ 1 ]'],\n",
       " [False, '[ 2 2 ] [ 2 3 3 ] [ 2 3 3 3 ] [ 2 3 3 ] [ 2 2 ]'],\n",
       " [True, '[ 3 ] [ 3 ] [ 3 ] [ 3 ]']]"
      ]
     },
     "execution_count": 114,
     "metadata": {},
     "output_type": "execute_result"
    }
   ],
   "source": [
    "def filter_by_depth(results, preds):\n",
    "    logic_depth_dist = {}\n",
    "    for i in range(len(results)):\n",
    "        logic_depth = get_logic_depth(q_valid[i][1])\n",
    "        if logic_depth not in logic_depth_dist:\n",
    "                logic_depth_dist[logic_depth] = [[check_correct(preds[i]), detokenize([q_valid[i][1]], rev_tgt_vocab, decode=True)[0].strip()]]\n",
    "        else:\n",
    "            logic_depth_dist[logic_depth].append([check_correct(preds[i]), detokenize([q_valid[i][1]], rev_tgt_vocab, decode=True)[0].strip()])\n",
    "    return logic_depth_dist\n",
    "\n",
    "def filter_by_depth_ctx(results, preds):\n",
    "    logic_depth_dist = {}\n",
    "    for i in range(len(results)):\n",
    "        logic_depth = get_logic_depth(q_valid[i][1])\n",
    "        if logic_depth not in logic_depth_dist:\n",
    "                logic_depth_dist[logic_depth] = [[check_correct(preds[i]), detokenize([q_valid[i][2]], rev_env_vocab, decode=True)[0].strip()]]\n",
    "        else:\n",
    "            logic_depth_dist[logic_depth].append([check_correct(preds[i]), detokenize([q_valid[i][2]], rev_env_vocab, decode=True)[0].strip()])\n",
    "    return logic_depth_dist\n",
    "\n",
    "dict_by_length = filter_by_depth(q_valid, cat_attn)\n",
    "# dict_by_length[3]\n",
    "dict_by_length_ctx = filter_by_depth_ctx(q_valid, cat_attn)\n",
    "dict_by_length_ctx[3]"
   ]
  },
  {
   "cell_type": "markdown",
   "metadata": {},
   "source": [
    "### Conclusion\n",
    "\n",
    "Since the variation of logical form depth is so narrow, we are not able to conclude much, and this reveals less information and length. However, a parculiar trend is that shallowest form is hardest to learn? This is counterintuitive. We examined the shallow logical forms (their actions) and the context they need to transform, but **no immediate common characteristics** are shared among correct and wrong ones."
   ]
  },
  {
   "cell_type": "markdown",
   "metadata": {},
   "source": [
    "## Language Categorization"
   ]
  },
  {
   "cell_type": "code",
   "execution_count": 176,
   "metadata": {
    "collapsed": true
   },
   "outputs": [],
   "source": [
    "# we use verb/action categorization to determine English/non-English\n",
    "# it's a shortcut but should work"
   ]
  },
  {
   "cell_type": "code",
   "execution_count": 15,
   "metadata": {
    "collapsed": true
   },
   "outputs": [],
   "source": [
    "def accuracy_by_language_type(preds):\n",
    "    # could do automatic first word collapsing (for further analysis)\n",
    "    non_english = []\n",
    "    english = []\n",
    "    for i in range(len(preds)):\n",
    "        lower_cmd = lower_case_list(preds[i]['cmd'])\n",
    "        if \"remove\" in lower_cmd or \"rm\" in lower_cmd or \"delete\" in lower_cmd or \"del\" in lower_cmd or \"clear\" in lower_cmd or \"clr\" in lower_cmd:\n",
    "            english.append(preds[i])\n",
    "        elif \"put\" in lower_cmd or \"place\" in lower_cmd:\n",
    "            english.append(preds[i])\n",
    "        elif \"add\" in lower_cmd:\n",
    "            english.append(preds[i])\n",
    "        elif \"stack\" in lower_cmd:\n",
    "            english.append(preds[i])\n",
    "        else:\n",
    "            non_english.append(preds[i])\n",
    "\n",
    "    return english, non_english"
   ]
  },
  {
   "cell_type": "code",
   "execution_count": 169,
   "metadata": {},
   "outputs": [
    {
     "name": "stdout",
     "output_type": "stream",
     "text": [
      "num of English:  962\n",
      "num of non-English:  283\n"
     ]
    }
   ],
   "source": [
    "english, non_english = accuracy_by_language_type(cat_attn)\n",
    "print \"num of English: \", len(english)\n",
    "print \"num of non-English: \", len(non_english)"
   ]
  },
  {
   "cell_type": "code",
   "execution_count": 175,
   "metadata": {},
   "outputs": [
    {
     "name": "stdout",
     "output_type": "stream",
     "text": [
      "accuracy of English:  0.665280665281\n",
      "accuracy of non-English:  0.494699646643\n"
     ]
    }
   ],
   "source": [
    "print \"accuracy of English: \", check_accuracy(english)\n",
    "print \"accuracy of non-English: \", check_accuracy(non_english)"
   ]
  },
  {
   "cell_type": "markdown",
   "metadata": {},
   "source": [
    "### Conclusion\n",
    "\n",
    "We note that for many non-english command, they don't share enough characteristics, but the model is still able to learn well."
   ]
  },
  {
   "cell_type": "markdown",
   "metadata": {},
   "source": [
    "## Verb/Action Categorization"
   ]
  },
  {
   "cell_type": "code",
   "execution_count": 47,
   "metadata": {
    "collapsed": true
   },
   "outputs": [],
   "source": [
    "def lower_case_list(l):\n",
    "    return [s.lower() for s in l]\n",
    "\n",
    "def accuracy_by_action_type(preds, action_type_accu_dict, action_type_dist):\n",
    "    # could do automatic first word collapsing (for further analysis)\n",
    "    for i in range(len(preds)):\n",
    "        lower_cmd = lower_case_list(preds[i]['cmd'])\n",
    "        triggered = 0\n",
    "        if \"remove\" in lower_cmd or \"rm\" in lower_cmd or \"delete\" in lower_cmd or \"del\" in lower_cmd or \"clear\" in lower_cmd or \"clr\" in lower_cmd:\n",
    "            action_type_dist['remove'] += 1\n",
    "            triggered += 1\n",
    "            if check_correct(preds[i]):\n",
    "                action_type_accu_dict['remove'] += 1\n",
    "        if \"put\" in lower_cmd or \"place\" in lower_cmd:\n",
    "            action_type_dist['put'] += 1\n",
    "            triggered += 1\n",
    "            if check_correct(preds[i]):\n",
    "                action_type_accu_dict['put'] += 1\n",
    "        if \"add\" in lower_cmd:\n",
    "            action_type_dist['add'] += 1\n",
    "            triggered += 1\n",
    "            if check_correct(preds[i]):\n",
    "                action_type_accu_dict['add'] += 1\n",
    "        if \"stack\" in lower_cmd:\n",
    "            action_type_dist['stack'] += 1\n",
    "            triggered += 1\n",
    "            if check_correct(preds[i]):\n",
    "                action_type_accu_dict['stack'] += 1\n",
    "#         if triggered > 1:\n",
    "#             print preds[i]['cmd']"
   ]
  },
  {
   "cell_type": "code",
   "execution_count": 166,
   "metadata": {},
   "outputs": [
    {
     "name": "stdout",
     "output_type": "stream",
     "text": [
      "{'put': 94, 'add': 275, 'stack': 31, 'remove': 564}\n",
      "{'put': 0.7093023255813954, 'add': 0.6145454545454545, 'stack': 0.5483870967741935, 'remove': 0.6897163120567376}\n",
      "total number of covered examples:  964 out of 1245\n"
     ]
    }
   ],
   "source": [
    "action_type_accu_num_dict = {'remove':0, 'add':0, 'put':0, 'stack':0}\n",
    "action_type_dist = {'remove':0, 'add':0, 'put':0, 'stack':0}\n",
    "\n",
    "accuracy_by_action_type(cat_attn, action_type_accu_num_dict, action_type_dist)\n",
    "\n",
    "print action_type_dist\n",
    "print action_type_accu_dict\n",
    "total = 0\n",
    "for k, v in action_type_dist.iteritems():\n",
    "    total += v\n",
    "print \"total number of covered examples: \", total, \"out of\", len(cat_attn)\n",
    "\n",
    "# only 2 examples in validation where in command, more than one action is mentioned "
   ]
  },
  {
   "cell_type": "code",
   "execution_count": 167,
   "metadata": {},
   "outputs": [
    {
     "name": "stdout",
     "output_type": "stream",
     "text": [
      "put: 94\n",
      "add: 275\n",
      "stack: 31\n",
      "remove: 564\n",
      "\n",
      "put: 0.712765957447\n",
      "add: 0.614545454545\n",
      "stack: 0.548387096774\n",
      "remove: 0.689716312057\n"
     ]
    }
   ],
   "source": [
    "action_type_accu_dict = {}\n",
    "\n",
    "for k, v in action_type_dist.iteritems():\n",
    "    action_type_accu_dict[k] = float(action_type_accu_num_dict[k]) / action_type_dist[k]\n",
    "\n",
    "for k, v in action_type_dist.iteritems():\n",
    "    print str(k) + \": \" + str(v)\n",
    "\n",
    "print \"\"\n",
    "    \n",
    "for k, v in action_type_accu_dict.iteritems():\n",
    "    print str(k) + \": \" + str(v)"
   ]
  },
  {
   "cell_type": "markdown",
   "metadata": {},
   "source": [
    "### Conclusion\n",
    "\n",
    "This is rather interesting. The result is irrelevant to verb/action types' training size. "
   ]
  },
  {
   "cell_type": "markdown",
   "metadata": {},
   "source": [
    "## Additional Explorations\n",
    "- Plot the learned embeddings of actions (assume action is the first word), determine action by logic form\n",
    "- Plot attention map of cat_attn to figure out which words are most responsible for correct action/prediction on the enviornment (especially interesting for non-English code)"
   ]
  },
  {
   "cell_type": "code",
   "execution_count": null,
   "metadata": {
    "collapsed": true
   },
   "outputs": [],
   "source": []
  }
 ],
 "metadata": {
  "kernelspec": {
   "display_name": "Python 2",
   "language": "python",
   "name": "python2"
  },
  "language_info": {
   "codemirror_mode": {
    "name": "ipython",
    "version": 2
   },
   "file_extension": ".py",
   "mimetype": "text/x-python",
   "name": "python",
   "nbconvert_exporter": "python",
   "pygments_lexer": "ipython2",
   "version": "2.7.10"
  }
 },
 "nbformat": 4,
 "nbformat_minor": 2
}
